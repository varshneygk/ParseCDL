{
 "cells": [
  {
   "cell_type": "code",
   "execution_count": 363,
   "id": "33322949-7a34-4d9c-8c95-7f1ac45f1f08",
   "metadata": {},
   "outputs": [],
   "source": [
    "netlist = \"\"\"\n",
    "***************************************\n",
    "* auCdl Netlist\n",
    "*\n",
    "* Library Name: ML_DATA_LIB\n",
    "* View Name : asdsa\n",
    "* Top Cewll Name : sadasdsdf\n",
    "* Netlisted On: FGerv, asdfasfd, 2 10:35:01 2022\n",
    "***************************************\n",
    ".INCLUDE $calibre_source_added_place\n",
    "*.BIPOLAR\n",
    "*.REST = 2000\n",
    "*.MEGA\n",
    ".PARAM\n",
    "\n",
    "*.EQUIV xcvr_avdd_clk = n12\n",
    "*+    loaddely = n13\n",
    "*+    rst_n = n14\n",
    ".SUBCKT BUFFER A Z gnd gnds vdd vdds\n",
    "+ n1 n2 n3\n",
    "+ n4 n5\n",
    "* net net0 = nnnn\n",
    "* net Z = /zzzz/asdasd00\n",
    "M1 Z net0 vdd vdds mypmos w=5 l=1\n",
    "* net A = /gggg/asdsa\n",
    "M2 net0 A vdd vdds mypmos w=5 l=1\n",
    "+ area=122 fin=34\n",
    "+ sde=44\n",
    "M3 Z net0 gnd gnds mynmos w=2 l=1\n",
    "M4 net0 A gnd gnds mynmos w=2 l=1\n",
    ".ENDS\n",
    "\"\"\""
   ]
  },
  {
   "cell_type": "code",
   "execution_count": 364,
   "id": "f439c584-6877-4691-b69e-ba749888373b",
   "metadata": {},
   "outputs": [],
   "source": [
    "import pyparsing as _p"
   ]
  },
  {
   "cell_type": "code",
   "execution_count": 365,
   "id": "088dff97-7205-4521-a474-e548dc8daa0b",
   "metadata": {},
   "outputs": [],
   "source": [
    "def parse_spectre(netlist_string):\n",
    "    # newlines are part of the grammar, thus redifine the whitespaces without it\n",
    "    ws = ' \\t'\n",
    "    _p.ParserElement.setDefaultWhitespaceChars(ws)\n",
    "\n",
    "    # spectre netlist grammar definition\n",
    "    EOL = _p.LineEnd().suppress() # end of line\n",
    "    linebreak = _p.Suppress(_p.LineEnd() + '+') # breaking a line with backslash newline\n",
    "    identifier=_p.Word(_p.alphanums+'_!<>/') # a name for...\n",
    "    number=_p.Word(_p.nums + \".\") # a number\n",
    "    expression = _p.Word(_p.alphanums+'._*+-/()=!<>')\n",
    "    net = expression # a net\n",
    "    nets = _p.Group(_p.OneOrMore(net | linebreak)) # many nets\n",
    "    cktname = identifier # name of a subcircuit\n",
    "    cktname_end = _p.Keyword(\".ENDS\").suppress()\n",
    "    instname = identifier\n",
    "    instance = _p.Group(instname + nets + EOL).setResultsName('instance')\n",
    "    int_net = _p.Suppress(\"* net\") + identifier('key') + _p.Suppress(\"=\") + identifier('value') + EOL\n",
    "    int_nets = _p.Group(int_net).setResultsName('int_nets')\n",
    "    subcircuit_content = _p.Group(_p.ZeroOrMore(instance | int_nets | EOL)).setResultsName('subnetlist')\n",
    "    cir_net = identifier\n",
    "    cir_nets = _p.Group(_p.OneOrMore(cir_net('net') | linebreak))\n",
    "    ext_net = _p.Suppress(_p.Literal(\"*.EQUIV\") | _p.Literal(\"*+\"))  + identifier('value') + _p.Suppress(\"=\") + identifier('key') + EOL\n",
    "    ext_nets = _p.Group(ext_net).setResultsName('ext_nets')\n",
    "    subcircuit = _p.Group(\n",
    "        # matches subckt <name> <nets> <newline>\n",
    "        _p.Keyword(\".SUBCKT\").suppress() + cktname('name') + cir_nets('nets') + EOL  \n",
    "        # matches the content of the subcircuit\n",
    "        + subcircuit_content\n",
    "        # matches ends <name> <newline>\n",
    "        + cktname_end + EOL).setResultsName('subcircuit')\n",
    "    include = _p.Group(_p.Keyword(\".INCLUDE\") + ... + _p.Keyword(\".PARAM\"))\n",
    "    star_line = _p.Group(_p.Combine(_p.Keyword(\"***\") + ... + _p.Keyword(\"***\")))\n",
    "    netlist_element = subcircuit | _p.Suppress(include) | _p.Suppress(star_line) | ext_nets | EOL\n",
    "    netlist = _p.ZeroOrMore(netlist_element) + _p.StringEnd()\n",
    "    \n",
    "    # parameters.setParseAction(handle_parameters)\n",
    "    # instance.setParseAction(handle_instance)\n",
    "    # subcircuit.setParseAction(handle_subcircuit)\n",
    "\n",
    "    return netlist.parseString(netlist_string);"
   ]
  },
  {
   "cell_type": "code",
   "execution_count": 366,
   "id": "804ca3b6-f761-4871-b6c9-93c0899f2827",
   "metadata": {},
   "outputs": [],
   "source": [
    "result1 = parse_spectre(netlist)"
   ]
  },
  {
   "cell_type": "code",
   "execution_count": 373,
   "id": "531dbb83-e094-4f79-b4dc-ae2b6a256155",
   "metadata": {},
   "outputs": [
    {
     "name": "stdout",
     "output_type": "stream",
     "text": [
      "['xcvr_avdd_clk', 'n12']\n",
      "\n",
      "\n",
      "['loaddely', 'n13']\n",
      "\n",
      "\n",
      "['rst_n', 'n14']\n",
      "\n",
      "\n",
      "['BUFFER', ['A', 'Z', 'gnd', 'gnds', 'vdd', 'vdds', 'n1', 'n2', 'n3', 'n4', 'n5'], [['net0', 'nnnn'], ['Z', '/zzzz/asdasd00'], ['M1', ['Z', 'net0', 'vdd', 'vdds', 'mypmos', 'w=5', 'l=1']], ['A', '/gggg/asdsa'], ['M2', ['net0', 'A', 'vdd', 'vdds', 'mypmos', 'w=5', 'l=1', 'area=122', 'fin=34', 'sde=44']], ['M3', ['Z', 'net0', 'gnd', 'gnds', 'mynmos', 'w=2', 'l=1']], ['M4', ['net0', 'A', 'gnd', 'gnds', 'mynmos', 'w=2', 'l=1']]]]\n",
      "\n",
      "\n"
     ]
    }
   ],
   "source": [
    "for ele in result1:\n",
    "    print(ele)\n",
    "    print('\\n')"
   ]
  },
  {
   "cell_type": "code",
   "execution_count": 375,
   "id": "ce00ec47-2fc7-41c9-81a3-56037be7ad9c",
   "metadata": {},
   "outputs": [
    {
     "data": {
      "text/plain": [
       "ParseResults([ParseResults(['xcvr_avdd_clk', 'n12'], {'value': 'xcvr_avdd_clk', 'key': 'n12'}), ParseResults(['loaddely', 'n13'], {'value': 'loaddely', 'key': 'n13'}), ParseResults(['rst_n', 'n14'], {'value': 'rst_n', 'key': 'n14'}), ParseResults(['BUFFER', ParseResults(['A', 'Z', 'gnd', 'gnds', 'vdd', 'vdds', 'n1', 'n2', 'n3', 'n4', 'n5'], {'net': 'n5'}), ParseResults([ParseResults(['net0', 'nnnn'], {'key': 'net0', 'value': 'nnnn'}), ParseResults(['Z', '/zzzz/asdasd00'], {'key': 'Z', 'value': '/zzzz/asdasd00'}), ParseResults(['M1', ParseResults(['Z', 'net0', 'vdd', 'vdds', 'mypmos', 'w=5', 'l=1'], {})], {}), ParseResults(['A', '/gggg/asdsa'], {'key': 'A', 'value': '/gggg/asdsa'}), ParseResults(['M2', ParseResults(['net0', 'A', 'vdd', 'vdds', 'mypmos', 'w=5', 'l=1', 'area=122', 'fin=34', 'sde=44'], {})], {}), ParseResults(['M3', ParseResults(['Z', 'net0', 'gnd', 'gnds', 'mynmos', 'w=2', 'l=1'], {})], {}), ParseResults(['M4', ParseResults(['net0', 'A', 'gnd', 'gnds', 'mynmos', 'w=2', 'l=1'], {})], {})], {'int_nets': {'key': 'A', 'value': '/gggg/asdsa'}, 'instance': ['M4', ['net0', 'A', 'gnd', 'gnds', 'mynmos', 'w=2', 'l=1']]})], {'name': 'BUFFER', 'nets': {'net': 'n5'}, 'subnetlist': {'int_nets': {'key': 'A', 'value': '/gggg/asdsa'}, 'instance': ['M4', ['net0', 'A', 'gnd', 'gnds', 'mynmos', 'w=2', 'l=1']]}})], {'ext_nets': {'value': 'rst_n', 'key': 'n14'}, 'subcircuit': {'name': 'BUFFER', 'nets': {'net': 'n5'}, 'subnetlist': {'int_nets': {'key': 'A', 'value': '/gggg/asdsa'}, 'instance': ['M4', ['net0', 'A', 'gnd', 'gnds', 'mynmos', 'w=2', 'l=1']]}}})"
      ]
     },
     "execution_count": 375,
     "metadata": {},
     "output_type": "execute_result"
    }
   ],
   "source": [
    "result1"
   ]
  },
  {
   "cell_type": "code",
   "execution_count": null,
   "id": "ef184d75-055e-43a9-b9bf-e74a63215c42",
   "metadata": {},
   "outputs": [],
   "source": []
  },
  {
   "cell_type": "code",
   "execution_count": null,
   "id": "fa449717-4dee-4d12-89b4-284e53813de2",
   "metadata": {},
   "outputs": [],
   "source": []
  }
 ],
 "metadata": {
  "kernelspec": {
   "display_name": "pyg",
   "language": "python",
   "name": "pyg"
  },
  "language_info": {
   "codemirror_mode": {
    "name": "ipython",
    "version": 3
   },
   "file_extension": ".py",
   "mimetype": "text/x-python",
   "name": "python",
   "nbconvert_exporter": "python",
   "pygments_lexer": "ipython3",
   "version": "3.9.7"
  }
 },
 "nbformat": 4,
 "nbformat_minor": 5
}
