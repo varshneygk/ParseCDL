{
 "cells": [
  {
   "cell_type": "code",
   "execution_count": 1,
   "id": "33322949-7a34-4d9c-8c95-7f1ac45f1f08",
   "metadata": {},
   "outputs": [],
   "source": [
    "netlist = \"\"\"\n",
    "***************************************\n",
    "* auCdl Netlist\n",
    "*\n",
    "* Library Name: ML_DATA_LIB\n",
    "* View Name : asdsa\n",
    "* Top Cewll Name : sadasdsdf\n",
    "* Netlisted On: FGerv, asdfasfd, 2 10:35:01 2022\n",
    "***************************************\n",
    ".INCLUDE $calibre_source_added_place\n",
    "*.BIPOLAR\n",
    "*.REST = 2000\n",
    "*.MEGA\n",
    ".PARAM\n",
    "\n",
    "*.EQUIV xcvr_avdd_clk = n12\n",
    "*+    loaddely = n13\n",
    "*+    rst_n = n14\n",
    ".SUBCKT BUFFER A Z gnd gnds vdd vdds\n",
    "+ n1 n2 n3\n",
    "+ n4 n5\n",
    "* net net0 = nnnn\n",
    "* net Z = /zzzz/asdasd00\n",
    "M1 Z net0 vdd vdds mypmos w=5 l=1\n",
    "* net A = /gggg/asdsa\n",
    "M2 net0 A vdd vdds mypmos w=5 l=1\n",
    "+ area=122 fin=34\n",
    "+ sde=44\n",
    "M3 Z net0 gnd gnds mynmos w=2 l=1\n",
    "M4 net0 A gnd gnds mynmos w=2 l=1\n",
    ".ENDS\n",
    "\n",
    "I1 net0 net1 0 gnds! vdd! vdds! BUFFER\n",
    "I2 net1 net2 0 gnds! vdd! vdds! INVERTER\n",
    "\"\"\""
   ]
  },
  {
   "cell_type": "code",
   "execution_count": 2,
   "id": "f439c584-6877-4691-b69e-ba749888373b",
   "metadata": {},
   "outputs": [],
   "source": [
    "import pyparsing as _p\n",
    "import netlist as nl"
   ]
  },
  {
   "cell_type": "code",
   "execution_count": 3,
   "id": "995f8a8e-9a48-4531-865e-8dd6aa812556",
   "metadata": {},
   "outputs": [],
   "source": [
    "def handle_instance(token):\n",
    "    inst = token.instance\n",
    "    name = inst[0]\n",
    "    pins, reference, params = divide_body(inst.instbody)\n",
    "    parameters = dict_params(params)\n",
    "    pins = list(map(lambda x: net_dict.get(x, x), pins))\n",
    "    i = nl.instance(name, pins, reference, parameters)\n",
    "    return [i]"
   ]
  },
  {
   "cell_type": "code",
   "execution_count": 4,
   "id": "612430fb-619b-4103-b4ac-f87e03e90562",
   "metadata": {},
   "outputs": [],
   "source": [
    "def divide_body(objs):\n",
    "    out = len(objs)\n",
    "    try:\n",
    "        out = next(idx for idx, obj in enumerate(objs) if \"=\" in obj)\n",
    "    except StopIteration:\n",
    "        pass\n",
    "    return objs[:out-1], objs[out-1], objs[out:]"
   ]
  },
  {
   "cell_type": "code",
   "execution_count": 5,
   "id": "9421998c-a90d-405d-a859-ef1e28af1ec6",
   "metadata": {},
   "outputs": [],
   "source": [
    "def dict_params(params):\n",
    "    m_split = list(map(lambda x: x.split(\"=\"), params))\n",
    "    key = map(lambda x: x[0], m_split)\n",
    "    value = map(lambda x:x[1], m_split)\n",
    "    return dict(zip(key, value))"
   ]
  },
  {
   "cell_type": "code",
   "execution_count": 6,
   "id": "6022a0b7-a458-4818-a40a-d659cb7a7458",
   "metadata": {},
   "outputs": [],
   "source": [
    "def handle_ext_nets(token):\n",
    "    inst = token.ext_nets\n",
    "    net_dict[inst.key] = inst.value\n",
    "    return []\n",
    "    # return [{inst.key : inst.value}]"
   ]
  },
  {
   "cell_type": "code",
   "execution_count": 7,
   "id": "d78de3f8-4995-4480-b53f-d14d22aff555",
   "metadata": {},
   "outputs": [],
   "source": [
    "def handle_int_nets(token):\n",
    "    inst = token.int_nets\n",
    "    net_dict[inst.key] = inst.value \n",
    "    return []\n",
    "    # return [{inst.key : inst.value}]"
   ]
  },
  {
   "cell_type": "code",
   "execution_count": 8,
   "id": "7ffa6142-2f46-4651-835f-a95b5c0be1f0",
   "metadata": {},
   "outputs": [],
   "source": [
    "def handle_subcircuit(token):\n",
    "    sc = token.subcircuit\n",
    "    nets = sc.nets\n",
    "    nets = list(map(lambda x: net_dict.get(x, x), nets))\n",
    "    name = sc.name\n",
    "    subcontent = sc.subnetlist\n",
    "    instances = list(filter(lambda x: type(x) == nl.instance, subcontent))\n",
    "    s = nl.subcircuit(name, nets, instances)\n",
    "    return [s]"
   ]
  },
  {
   "cell_type": "code",
   "execution_count": 9,
   "id": "088dff97-7205-4521-a474-e548dc8daa0b",
   "metadata": {},
   "outputs": [],
   "source": [
    "def parse_spectre(netlist_string):\n",
    "    # newlines are part of the grammar, thus redifine the whitespaces without it\n",
    "    ws = ' \\t'\n",
    "    _p.ParserElement.setDefaultWhitespaceChars(ws)\n",
    "\n",
    "    # spectre netlist grammar definition\n",
    "    EOL = _p.LineEnd().suppress() # end of line\n",
    "    linebreak = _p.Suppress(_p.LineEnd() + '+') # breaking a line with backslash newline\n",
    "    identifier=_p.Word(_p.alphanums+'_!<>/') # a name for...\n",
    "    number=_p.Word(_p.nums + \".\") # a number\n",
    "    expression = _p.Word(_p.alphanums+'._*+-/()=!<>')\n",
    "    net = expression # a net\n",
    "    nets = _p.Group(_p.OneOrMore(net | linebreak)) # many nets\n",
    "    cktname = identifier # name of a subcircuit\n",
    "    cktname_end = _p.Keyword(\".ENDS\").suppress()\n",
    "    instname = identifier\n",
    "    instance = _p.Group(instname('instname') + nets('instbody') + EOL).setResultsName('instance')\n",
    "    int_net = _p.Suppress(\"* net\") + identifier('key') + _p.Suppress(\"=\") + identifier('value') + EOL\n",
    "    int_nets = _p.Group(int_net).setResultsName('int_nets')\n",
    "    subcircuit_content = _p.Group(_p.ZeroOrMore(instance | int_nets | EOL)).setResultsName('subnetlist')\n",
    "    cir_net = identifier\n",
    "    cir_nets = _p.Group(_p.OneOrMore(cir_net('net') | linebreak))\n",
    "    ext_net = _p.Suppress(_p.Literal(\"*.EQUIV\") | _p.Literal(\"*+\"))  + identifier('value') + _p.Suppress(\"=\") + identifier('key') + EOL\n",
    "    ext_nets = _p.Group(ext_net).setResultsName('ext_nets')\n",
    "    subcircuit = _p.Group(\n",
    "        # matches subckt <name> <nets> <newline>\n",
    "        _p.Keyword(\".SUBCKT\").suppress() + cktname('name') + cir_nets('nets') + EOL  \n",
    "        # matches the content of the subcircuit\n",
    "        + subcircuit_content\n",
    "        # matches ends <name> <newline>\n",
    "        + cktname_end + EOL).setResultsName('subcircuit')\n",
    "    include = _p.Group(_p.Keyword(\".INCLUDE\") + ... + _p.Keyword(\".PARAM\"))\n",
    "    star_line = _p.Group(_p.Combine(_p.Keyword(\"***\") + ... + _p.Keyword(\"***\")))\n",
    "    netlist_element = subcircuit | instance |_p.Suppress(include) | _p.Suppress(star_line) | ext_nets | EOL\n",
    "    netlist = _p.ZeroOrMore(netlist_element) + _p.StringEnd()\n",
    "    \n",
    "    global net_dict\n",
    "    net_dict = {}\n",
    "    ext_nets.setParseAction(handle_ext_nets)\n",
    "    int_nets.setParseAction(handle_int_nets)\n",
    "    \n",
    "    instance.setParseAction(handle_instance)\n",
    "    subcircuit.setParseAction(handle_subcircuit)\n",
    "    \n",
    "    return netlist.parseString(netlist_string);"
   ]
  },
  {
   "cell_type": "code",
   "execution_count": 10,
   "id": "804ca3b6-f761-4871-b6c9-93c0899f2827",
   "metadata": {},
   "outputs": [],
   "source": [
    "result1 = parse_spectre(netlist)"
   ]
  },
  {
   "cell_type": "code",
   "execution_count": 11,
   "id": "d2ffe2e1-0a83-47c3-8e48-528440109a14",
   "metadata": {},
   "outputs": [
    {
     "data": {
      "text/plain": [
       "{'n12': 'xcvr_avdd_clk',\n",
       " 'n13': 'loaddely',\n",
       " 'n14': 'rst_n',\n",
       " 'net0': 'nnnn',\n",
       " 'Z': '/zzzz/asdasd00',\n",
       " 'A': '/gggg/asdsa'}"
      ]
     },
     "execution_count": 11,
     "metadata": {},
     "output_type": "execute_result"
    }
   ],
   "source": [
    "net_dict"
   ]
  },
  {
   "cell_type": "code",
   "execution_count": 12,
   "id": "6fff1a6f-ce16-43ef-8813-675313747c82",
   "metadata": {},
   "outputs": [
    {
     "data": {
      "text/plain": [
       "ParseResults([BUFFER, <netlist.instance object at 0x7f3aac1541f0>, <netlist.instance object at 0x7f3aac154a30>], {'subcircuit': [BUFFER], 'instance': [<netlist.instance object at 0x7f3aac154a30>]})"
      ]
     },
     "execution_count": 12,
     "metadata": {},
     "output_type": "execute_result"
    }
   ],
   "source": [
    "result1"
   ]
  },
  {
   "cell_type": "code",
   "execution_count": 13,
   "id": "531dbb83-e094-4f79-b4dc-ae2b6a256155",
   "metadata": {},
   "outputs": [
    {
     "name": "stdout",
     "output_type": "stream",
     "text": [
      "subcircuit BUFFER({'/gggg/asdsa': BUFFER./gggg/asdsa, '/zzzz/asdasd00': BUFFER./zzzz/asdasd00, 'gnd': BUFFER.gnd, 'gnds': BUFFER.gnds, 'vdd': BUFFER.vdd, 'vdds': BUFFER.vdds, 'n1': BUFFER.n1, 'n2': BUFFER.n2, 'n3': BUFFER.n3, 'n4': BUFFER.n4, 'n5': BUFFER.n5, 'nnnn': BUFFER.nnnn}):{'M1': 'mypmos', 'M2': 'mypmos', 'M3': 'mynmos', 'M4': 'mynmos'}\n",
      "instance I1@BUFFER{}\n",
      "instance I2@INVERTER{}\n"
     ]
    }
   ],
   "source": [
    "# for ele in result1:\n",
    "#     print(ele.get_name())\n",
    "#     print(ele)\n",
    "#     if ele.get_name() == 'subcircuit':\n",
    "#         for _ in ele:\n",
    "#             if type(_) != str:\n",
    "#                 print(_.get_name())\n",
    "#                 print(_)\n",
    "#                 if _.get_name() == \"subnetlist\":\n",
    "#                     for t in _:\n",
    "#                         # print(t.get_name())\n",
    "#                         print(t)\n",
    "#     print('\\n')\n",
    "for ele in result1:\n",
    "    print(ele)"
   ]
  },
  {
   "cell_type": "code",
   "execution_count": null,
   "id": "6c015b93-d4c4-420b-88b4-27875c665dc8",
   "metadata": {},
   "outputs": [],
   "source": []
  },
  {
   "cell_type": "code",
   "execution_count": null,
   "id": "db4f8f2f-0e98-48dd-9d7b-8fcc72bf4364",
   "metadata": {},
   "outputs": [],
   "source": []
  }
 ],
 "metadata": {
  "kernelspec": {
   "display_name": "pyg",
   "language": "python",
   "name": "pyg"
  },
  "language_info": {
   "codemirror_mode": {
    "name": "ipython",
    "version": 3
   },
   "file_extension": ".py",
   "mimetype": "text/x-python",
   "name": "python",
   "nbconvert_exporter": "python",
   "pygments_lexer": "ipython3",
   "version": "3.9.7"
  }
 },
 "nbformat": 4,
 "nbformat_minor": 5
}
