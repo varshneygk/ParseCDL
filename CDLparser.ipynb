{
 "cells": [
  {
   "cell_type": "code",
   "execution_count": 196,
   "id": "33322949-7a34-4d9c-8c95-7f1ac45f1f08",
   "metadata": {},
   "outputs": [],
   "source": [
    "netlist = \"\"\"\n",
    "***************************************\n",
    "* auCdl Netlist\n",
    "*\n",
    "* Library Name: ML_DATA_LIB\n",
    "* View Name : asdsa\n",
    "* Top Cewll Name : sadasdsdf\n",
    "* Netlisted On: FGerv, asdfasfd, 2 10:35:01 2022\n",
    "***************************************\n",
    ".INCLUDE $calibre_source_added_place\n",
    "*.BIPOLAR\n",
    "*.REST = 2000\n",
    "*.MEGA\n",
    ".PARAM\n",
    "\n",
    "*.EQUIV xcvr_avdd_clk = n12\n",
    "*+    loaddely = n13\n",
    "*+    rst_n = n14\n",
    ".SUBCKT BUFFER A Z gnd gnds vdd vdds\n",
    "+ n1 n2 n3\n",
    "+ n4 n5\n",
    "* net net0 = nnnn\n",
    "* net Z = /zzzz/asdasd00\n",
    "M1 Z net0 vdd vdds mypmos w=5 l=1\n",
    "* net A = /gggg/asdsa\n",
    "M2 net0 A vdd vdds mypmos w=5 l=1\n",
    "+ area=122 fin=34\n",
    "+ sde=44\n",
    "M3 Z net0 gnd gnds mynmos w=2 l=1\n",
    "M4 net0 A gnd gnds mynmos w=2 l=1\n",
    ".ENDS\n",
    "\n",
    "I1 net0 net1 0 gnds! vdd! vdds! BUFFER\n",
    "I2 net1 net2 0 gnds! vdd! vdds! INVERTER\n",
    "\"\"\""
   ]
  },
  {
   "cell_type": "code",
   "execution_count": 399,
   "id": "f439c584-6877-4691-b69e-ba749888373b",
   "metadata": {},
   "outputs": [],
   "source": [
    "import pyparsing as _p\n",
    "import netlist as nl\n",
    "net_dict = dict()"
   ]
  },
  {
   "cell_type": "code",
   "execution_count": 303,
   "id": "995f8a8e-9a48-4531-865e-8dd6aa812556",
   "metadata": {},
   "outputs": [],
   "source": [
    "def handle_instance(token):\n",
    "    inst = token.instance\n",
    "    name = inst[0]\n",
    "    pins, reference, params = divide_body(inst.instbody)\n",
    "    parameters = dict_params(params)\n",
    "    i = nl.instance(name, pins, reference, parameters)\n",
    "    return [i]"
   ]
  },
  {
   "cell_type": "code",
   "execution_count": 304,
   "id": "612430fb-619b-4103-b4ac-f87e03e90562",
   "metadata": {},
   "outputs": [],
   "source": [
    "def divide_body(objs):\n",
    "    out = len(objs)\n",
    "    try:\n",
    "        out = next(idx for idx, obj in enumerate(objs) if \"=\" in obj)\n",
    "    except StopIteration:\n",
    "        pass\n",
    "    return objs[:out-1], objs[out-1], objs[out:]"
   ]
  },
  {
   "cell_type": "code",
   "execution_count": 305,
   "id": "9421998c-a90d-405d-a859-ef1e28af1ec6",
   "metadata": {},
   "outputs": [],
   "source": [
    "def dict_params(params):\n",
    "    m_split = list(map(lambda x: x.split(\"=\"), params))\n",
    "    key = map(lambda x: x[0], m_split)\n",
    "    value = map(lambda x:x[1], m_split)\n",
    "    return dict(zip(key, value))"
   ]
  },
  {
   "cell_type": "code",
   "execution_count": 326,
   "id": "6022a0b7-a458-4818-a40a-d659cb7a7458",
   "metadata": {},
   "outputs": [],
   "source": [
    "def handle_ext_nets(token):\n",
    "    inst = token.ext_nets\n",
    "    net_dict[inst.key] = inst.value \n",
    "    return [{inst.key : inst.value}]"
   ]
  },
  {
   "cell_type": "code",
   "execution_count": 338,
   "id": "d78de3f8-4995-4480-b53f-d14d22aff555",
   "metadata": {},
   "outputs": [],
   "source": [
    "def handle_int_nets(token):\n",
    "    inst = token.int_nets\n",
    "    net_dict[inst.key] = inst.value \n",
    "    return [{inst.key : inst.value}]"
   ]
  },
  {
   "cell_type": "code",
   "execution_count": 390,
   "id": "7ffa6142-2f46-4651-835f-a95b5c0be1f0",
   "metadata": {},
   "outputs": [],
   "source": [
    "def handle_subcircuit(token):\n",
    "    sc = token.subcircuit\n",
    "    nets = sc.nets\n",
    "    name = sc.name\n",
    "    subcontent = sc.subnetlist\n",
    "    instances = list(filter(lambda x: type(x) == nl.instance, subcontent))\n",
    "    int_nets = list(filter(lambda x: type(x) == dict, subcontent))\n",
    "    s = nl.subcircuit(name, nets, instances)\n",
    "    return [int_nets, s]"
   ]
  },
  {
   "cell_type": "code",
   "execution_count": 391,
   "id": "088dff97-7205-4521-a474-e548dc8daa0b",
   "metadata": {},
   "outputs": [],
   "source": [
    "def parse_spectre(netlist_string):\n",
    "    # newlines are part of the grammar, thus redifine the whitespaces without it\n",
    "    ws = ' \\t'\n",
    "    _p.ParserElement.setDefaultWhitespaceChars(ws)\n",
    "\n",
    "    # spectre netlist grammar definition\n",
    "    EOL = _p.LineEnd().suppress() # end of line\n",
    "    linebreak = _p.Suppress(_p.LineEnd() + '+') # breaking a line with backslash newline\n",
    "    identifier=_p.Word(_p.alphanums+'_!<>/') # a name for...\n",
    "    number=_p.Word(_p.nums + \".\") # a number\n",
    "    expression = _p.Word(_p.alphanums+'._*+-/()=!<>')\n",
    "    net = expression # a net\n",
    "    nets = _p.Group(_p.OneOrMore(net | linebreak)) # many nets\n",
    "    cktname = identifier # name of a subcircuit\n",
    "    cktname_end = _p.Keyword(\".ENDS\").suppress()\n",
    "    instname = identifier\n",
    "    instance = _p.Group(instname('instname') + nets('instbody') + EOL).setResultsName('instance')\n",
    "    int_net = _p.Suppress(\"* net\") + identifier('key') + _p.Suppress(\"=\") + identifier('value') + EOL\n",
    "    int_nets = _p.Group(int_net).setResultsName('int_nets')\n",
    "    subcircuit_content = _p.Group(_p.ZeroOrMore(instance | int_nets | EOL)).setResultsName('subnetlist')\n",
    "    cir_net = identifier\n",
    "    cir_nets = _p.Group(_p.OneOrMore(cir_net('net') | linebreak))\n",
    "    ext_net = _p.Suppress(_p.Literal(\"*.EQUIV\") | _p.Literal(\"*+\"))  + identifier('value') + _p.Suppress(\"=\") + identifier('key') + EOL\n",
    "    ext_nets = _p.Group(ext_net).setResultsName('ext_nets')\n",
    "    subcircuit = _p.Group(\n",
    "        # matches subckt <name> <nets> <newline>\n",
    "        _p.Keyword(\".SUBCKT\").suppress() + cktname('name') + cir_nets('nets') + EOL  \n",
    "        # matches the content of the subcircuit\n",
    "        + subcircuit_content\n",
    "        # matches ends <name> <newline>\n",
    "        + cktname_end + EOL).setResultsName('subcircuit')\n",
    "    include = _p.Group(_p.Keyword(\".INCLUDE\") + ... + _p.Keyword(\".PARAM\"))\n",
    "    star_line = _p.Group(_p.Combine(_p.Keyword(\"***\") + ... + _p.Keyword(\"***\")))\n",
    "    netlist_element = subcircuit | instance |_p.Suppress(include) | _p.Suppress(star_line) | ext_nets | EOL\n",
    "    netlist = _p.ZeroOrMore(netlist_element) + _p.StringEnd()\n",
    "    \n",
    "    # parameters.setParseAction(handle_parameters)\n",
    "    ext_nets.setParseAction(handle_ext_nets)\n",
    "    int_nets.setParseAction(handle_int_nets)\n",
    "    instance.setParseAction(handle_instance)\n",
    "    subcircuit.setParseAction(handle_subcircuit)\n",
    "\n",
    "    return netlist.parseString(netlist_string);"
   ]
  },
  {
   "cell_type": "code",
   "execution_count": 392,
   "id": "804ca3b6-f761-4871-b6c9-93c0899f2827",
   "metadata": {},
   "outputs": [],
   "source": [
    "result1 = parse_spectre(netlist)"
   ]
  },
  {
   "cell_type": "code",
   "execution_count": 393,
   "id": "6fff1a6f-ce16-43ef-8813-675313747c82",
   "metadata": {},
   "outputs": [
    {
     "data": {
      "text/plain": [
       "ParseResults([{'n12': 'xcvr_avdd_clk'}, {'n13': 'loaddely'}, {'n14': 'rst_n'}, [{'net0': 'nnnn'}, {'Z': '/zzzz/asdasd00'}, {'A': '/gggg/asdsa'}], BUFFER, <netlist.instance object at 0x7efbf1ebf700>, <netlist.instance object at 0x7efbf1b524f0>], {'ext_nets': [{'n14': 'rst_n'}], 'subcircuit': [{'net0': 'nnnn'}, {'Z': '/zzzz/asdasd00'}, {'A': '/gggg/asdsa'}], 'instance': [<netlist.instance object at 0x7efbf1b524f0>]})"
      ]
     },
     "execution_count": 393,
     "metadata": {},
     "output_type": "execute_result"
    }
   ],
   "source": [
    "result1"
   ]
  },
  {
   "cell_type": "code",
   "execution_count": 394,
   "id": "dd6c5091-64c6-4bcf-a8ed-37b53ea1fc52",
   "metadata": {},
   "outputs": [],
   "source": [
    "x = result1[0]"
   ]
  },
  {
   "cell_type": "code",
   "execution_count": 395,
   "id": "ef5e6ecf-bc90-46f0-a3c1-5ad5a9ca6040",
   "metadata": {},
   "outputs": [
    {
     "ename": "AttributeError",
     "evalue": "'dict' object has no attribute 'append'",
     "output_type": "error",
     "traceback": [
      "\u001b[0;31m---------------------------------------------------------------------------\u001b[0m",
      "\u001b[0;31mAttributeError\u001b[0m                            Traceback (most recent call last)",
      "\u001b[0;32m/tmp/ipykernel_10469/2067801356.py\u001b[0m in \u001b[0;36m<module>\u001b[0;34m\u001b[0m\n\u001b[0;32m----> 1\u001b[0;31m \u001b[0mx\u001b[0m\u001b[0;34m.\u001b[0m\u001b[0mappend\u001b[0m\u001b[0;34m(\u001b[0m\u001b[0;36m1\u001b[0m\u001b[0;34m)\u001b[0m\u001b[0;34m\u001b[0m\u001b[0;34m\u001b[0m\u001b[0m\n\u001b[0m",
      "\u001b[0;31mAttributeError\u001b[0m: 'dict' object has no attribute 'append'"
     ]
    }
   ],
   "source": [
    "x.append(1)"
   ]
  },
  {
   "cell_type": "code",
   "execution_count": 396,
   "id": "ab5f0ec7-f095-4fc6-93ee-bc112b381084",
   "metadata": {},
   "outputs": [
    {
     "ename": "KeyError",
     "evalue": "2",
     "output_type": "error",
     "traceback": [
      "\u001b[0;31m---------------------------------------------------------------------------\u001b[0m",
      "\u001b[0;31mKeyError\u001b[0m                                  Traceback (most recent call last)",
      "\u001b[0;32m/tmp/ipykernel_10469/508030786.py\u001b[0m in \u001b[0;36m<module>\u001b[0;34m\u001b[0m\n\u001b[0;32m----> 1\u001b[0;31m \u001b[0mx\u001b[0m\u001b[0;34m.\u001b[0m\u001b[0mpop\u001b[0m\u001b[0;34m(\u001b[0m\u001b[0;36m2\u001b[0m\u001b[0;34m)\u001b[0m\u001b[0;34m\u001b[0m\u001b[0;34m\u001b[0m\u001b[0m\n\u001b[0m",
      "\u001b[0;31mKeyError\u001b[0m: 2"
     ]
    }
   ],
   "source": [
    "x.pop(2)"
   ]
  },
  {
   "cell_type": "code",
   "execution_count": 397,
   "id": "168dbb13-2912-4b02-bb04-0a19b17ccdc3",
   "metadata": {},
   "outputs": [
    {
     "ename": "AttributeError",
     "evalue": "'dict' object has no attribute 'getName'",
     "output_type": "error",
     "traceback": [
      "\u001b[0;31m---------------------------------------------------------------------------\u001b[0m",
      "\u001b[0;31mAttributeError\u001b[0m                            Traceback (most recent call last)",
      "\u001b[0;32m/tmp/ipykernel_10469/3676851020.py\u001b[0m in \u001b[0;36m<module>\u001b[0;34m\u001b[0m\n\u001b[0;32m----> 1\u001b[0;31m \u001b[0mx\u001b[0m\u001b[0;34m.\u001b[0m\u001b[0mgetName\u001b[0m\u001b[0;34m(\u001b[0m\u001b[0;34m)\u001b[0m\u001b[0;34m\u001b[0m\u001b[0;34m\u001b[0m\u001b[0m\n\u001b[0m",
      "\u001b[0;31mAttributeError\u001b[0m: 'dict' object has no attribute 'getName'"
     ]
    }
   ],
   "source": [
    "x.getName()"
   ]
  },
  {
   "cell_type": "code",
   "execution_count": 398,
   "id": "531dbb83-e094-4f79-b4dc-ae2b6a256155",
   "metadata": {},
   "outputs": [
    {
     "name": "stdout",
     "output_type": "stream",
     "text": [
      "{'n12': 'xcvr_avdd_clk'}\n",
      "{'n13': 'loaddely'}\n",
      "{'n14': 'rst_n'}\n",
      "[{'net0': 'nnnn'}, {'Z': '/zzzz/asdasd00'}, {'A': '/gggg/asdsa'}]\n",
      "subcircuit BUFFER({'A': BUFFER.A, 'Z': BUFFER.Z, 'gnd': BUFFER.gnd, 'gnds': BUFFER.gnds, 'vdd': BUFFER.vdd, 'vdds': BUFFER.vdds, 'n1': BUFFER.n1, 'n2': BUFFER.n2, 'n3': BUFFER.n3, 'n4': BUFFER.n4, 'n5': BUFFER.n5, 'net0': BUFFER.net0}):{'M1': 'mypmos', 'M2': 'mypmos', 'M3': 'mynmos', 'M4': 'mynmos'}\n",
      "instance I1@BUFFER{}\n",
      "instance I2@INVERTER{}\n"
     ]
    }
   ],
   "source": [
    "# for ele in result1:\n",
    "#     print(ele.get_name())\n",
    "#     print(ele)\n",
    "#     if ele.get_name() == 'subcircuit':\n",
    "#         for _ in ele:\n",
    "#             if type(_) != str:\n",
    "#                 print(_.get_name())\n",
    "#                 print(_)\n",
    "#                 if _.get_name() == \"subnetlist\":\n",
    "#                     for t in _:\n",
    "#                         # print(t.get_name())\n",
    "#                         print(t)\n",
    "#     print('\\n')\n",
    "for ele in result1:\n",
    "    print(ele)"
   ]
  },
  {
   "cell_type": "code",
   "execution_count": null,
   "id": "78ba1515-b0f4-4dd6-affc-0ea68e49b790",
   "metadata": {},
   "outputs": [],
   "source": [
    "  "
   ]
  },
  {
   "cell_type": "code",
   "execution_count": null,
   "id": "ef184d75-055e-43a9-b9bf-e74a63215c42",
   "metadata": {},
   "outputs": [],
   "source": [
    "\n",
    "\n",
    "\n"
   ]
  },
  {
   "cell_type": "code",
   "execution_count": 367,
   "id": "fa449717-4dee-4d12-89b4-284e53813de2",
   "metadata": {},
   "outputs": [
    {
     "ename": "TypeError",
     "evalue": "'instance' object is not iterable",
     "output_type": "error",
     "traceback": [
      "\u001b[0;31m---------------------------------------------------------------------------\u001b[0m",
      "\u001b[0;31mTypeError\u001b[0m                                 Traceback (most recent call last)",
      "\u001b[0;32m/tmp/ipykernel_10469/3264188320.py\u001b[0m in \u001b[0;36m<module>\u001b[0;34m\u001b[0m\n\u001b[0;32m----> 1\u001b[0;31m \u001b[0;32mfor\u001b[0m \u001b[0m_\u001b[0m \u001b[0;32min\u001b[0m \u001b[0mele\u001b[0m\u001b[0;34m:\u001b[0m\u001b[0;34m\u001b[0m\u001b[0;34m\u001b[0m\u001b[0m\n\u001b[0m\u001b[1;32m      2\u001b[0m     \u001b[0mprint\u001b[0m\u001b[0;34m(\u001b[0m\u001b[0m_\u001b[0m\u001b[0;34m.\u001b[0m\u001b[0mget_name\u001b[0m\u001b[0;34m(\u001b[0m\u001b[0;34m)\u001b[0m\u001b[0;34m)\u001b[0m\u001b[0;34m\u001b[0m\u001b[0;34m\u001b[0m\u001b[0m\n",
      "\u001b[0;31mTypeError\u001b[0m: 'instance' object is not iterable"
     ]
    }
   ],
   "source": [
    "for _ in ele:\n",
    "    print(_.get_name())"
   ]
  },
  {
   "cell_type": "code",
   "execution_count": 368,
   "id": "c66238b6-bf82-417c-8e7d-ebc4a0248d73",
   "metadata": {},
   "outputs": [
    {
     "data": {
      "text/plain": [
       "ParseResults([ParseResults(['net0', 'nnnn'], {'key': 'net0', 'value': 'nnnn'}), ParseResults(['Z', '/zzzz/asdasd00'], {'key': 'Z', 'value': '/zzzz/asdasd00'}), <netlist.instance object at 0x7efbf1467070>, ParseResults(['A', '/gggg/asdsa'], {'key': 'A', 'value': '/gggg/asdsa'}), <netlist.instance object at 0x7efbf1467b50>, <netlist.instance object at 0x7efbf13ecfa0>, <netlist.instance object at 0x7efbf13ec970>], {'int_nets': {'key': 'A', 'value': '/gggg/asdsa'}, 'instance': [<netlist.instance object at 0x7efbf13ec970>]})"
      ]
     },
     "execution_count": 368,
     "metadata": {},
     "output_type": "execute_result"
    }
   ],
   "source": [
    "_"
   ]
  },
  {
   "cell_type": "code",
   "execution_count": 369,
   "id": "3fc94810-d70f-4dc5-a9de-63af2331ebfd",
   "metadata": {},
   "outputs": [
    {
     "data": {
      "text/plain": [
       "'subnetlist'"
      ]
     },
     "execution_count": 369,
     "metadata": {},
     "output_type": "execute_result"
    }
   ],
   "source": [
    "_.get_name()"
   ]
  },
  {
   "cell_type": "code",
   "execution_count": 370,
   "id": "bfe1ea29-3602-45fd-a90c-387c45ed8a6a",
   "metadata": {},
   "outputs": [
    {
     "ename": "AttributeError",
     "evalue": "'instance' object has no attribute 'get_name'",
     "output_type": "error",
     "traceback": [
      "\u001b[0;31m---------------------------------------------------------------------------\u001b[0m",
      "\u001b[0;31mAttributeError\u001b[0m                            Traceback (most recent call last)",
      "\u001b[0;32m/tmp/ipykernel_10469/2074684560.py\u001b[0m in \u001b[0;36m<module>\u001b[0;34m\u001b[0m\n\u001b[0;32m----> 1\u001b[0;31m \u001b[0mele\u001b[0m\u001b[0;34m.\u001b[0m\u001b[0mget_name\u001b[0m\u001b[0;34m(\u001b[0m\u001b[0;34m)\u001b[0m\u001b[0;34m\u001b[0m\u001b[0;34m\u001b[0m\u001b[0m\n\u001b[0m",
      "\u001b[0;31mAttributeError\u001b[0m: 'instance' object has no attribute 'get_name'"
     ]
    }
   ],
   "source": [
    "ele.get_name()"
   ]
  },
  {
   "cell_type": "code",
   "execution_count": null,
   "id": "0b34d5c7-0f88-419a-a9e1-8e56860a04a1",
   "metadata": {},
   "outputs": [],
   "source": []
  },
  {
   "cell_type": "code",
   "execution_count": 180,
   "id": "87b49f9c-c371-4e89-9cc5-2f5496f64dd8",
   "metadata": {},
   "outputs": [],
   "source": [
    "d = result1.as_dict()"
   ]
  },
  {
   "cell_type": "code",
   "execution_count": 181,
   "id": "3934d749-8d14-4835-ac14-b1d9d695228a",
   "metadata": {},
   "outputs": [
    {
     "name": "stdout",
     "output_type": "stream",
     "text": [
      "{'value': 'xcvr_avdd_clk', 'key': 'n12'}\n",
      "{'value': 'loaddely', 'key': 'n13'}\n",
      "{'value': 'rst_n', 'key': 'n14'}\n",
      "{'name': 'BUFFER', 'nets': {'net': 'n5'}, 'subnetlist': {'int_nets': {'key': 'A', 'value': '/gggg/asdsa'}, 'instance': {'instname': 'M4', 'instbody': ['net0', 'A', 'gnd', 'gnds', 'mynmos', 'w=2', 'l=1']}}}\n",
      "{'instname': 'I1', 'instbody': ['net0', 'net1', '0', 'gnds!', 'vdd!', 'vdds!', 'BUFFER']}\n",
      "{'instname': 'I2', 'instbody': ['net1', 'net2', '0', 'gnds!', 'vdd!', 'vdds!', 'INVERTER']}\n"
     ]
    }
   ],
   "source": [
    "for ele in result1:\n",
    "    print(ele.as_dict())"
   ]
  },
  {
   "cell_type": "code",
   "execution_count": null,
   "id": "4ab38d80-8cfd-48c8-aaf6-b5bd9915e202",
   "metadata": {},
   "outputs": [],
   "source": []
  },
  {
   "cell_type": "code",
   "execution_count": null,
   "id": "ae651506-7c63-424f-9015-c0c5aa33fa75",
   "metadata": {},
   "outputs": [],
   "source": []
  }
 ],
 "metadata": {
  "kernelspec": {
   "display_name": "pyg",
   "language": "python",
   "name": "pyg"
  },
  "language_info": {
   "codemirror_mode": {
    "name": "ipython",
    "version": 3
   },
   "file_extension": ".py",
   "mimetype": "text/x-python",
   "name": "python",
   "nbconvert_exporter": "python",
   "pygments_lexer": "ipython3",
   "version": "3.9.7"
  }
 },
 "nbformat": 4,
 "nbformat_minor": 5
}
