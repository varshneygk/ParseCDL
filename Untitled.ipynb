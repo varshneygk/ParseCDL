{
 "cells": [
  {
   "cell_type": "code",
   "execution_count": 1,
   "id": "05770634-2a0f-4051-9427-1f6b13bdba09",
   "metadata": {},
   "outputs": [],
   "source": [
    "import pyparsing as _p"
   ]
  },
  {
   "cell_type": "code",
   "execution_count": 3,
   "id": "ee3f55d2-5b12-4fda-9a69-07dd0f1118e9",
   "metadata": {},
   "outputs": [],
   "source": [
    "data_word = _p.Word(_p.alphas)\n",
    "label = data_word + _p.FollowedBy('=')\n",
    "\n",
    "text = \"shape: SQUARE posn: upper left color: light blue texture: burlap\""
   ]
  },
  {
   "cell_type": "code",
   "execution_count": 11,
   "id": "45a465e3-dbc5-4b80-8725-fc9b43e230ff",
   "metadata": {},
   "outputs": [],
   "source": [
    "attr_expr = _p.Group((label + _p.Suppress(':') + _p.OneOrMore(data_word, stop_on=label).set_parse_action(' '.join)))"
   ]
  },
  {
   "cell_type": "code",
   "execution_count": 15,
   "id": "09759b41-b692-41d5-9777-5f6e7d86d246",
   "metadata": {},
   "outputs": [
    {
     "name": "stdout",
     "output_type": "stream",
     "text": [
      "[['shape', 'SQUARE'], ['posn', 'upper left'], ['color', 'light blue'], ['texture', 'burlap']]\n"
     ]
    }
   ],
   "source": [
    "print(_p.OneOrMore(attr_expr).parse_string(text))"
   ]
  },
  {
   "cell_type": "code",
   "execution_count": null,
   "id": "63265230-5a74-4872-ab14-f34bcf63bd1e",
   "metadata": {},
   "outputs": [],
   "source": []
  }
 ],
 "metadata": {
  "kernelspec": {
   "display_name": "pyg",
   "language": "python",
   "name": "pyg"
  },
  "language_info": {
   "codemirror_mode": {
    "name": "ipython",
    "version": 3
   },
   "file_extension": ".py",
   "mimetype": "text/x-python",
   "name": "python",
   "nbconvert_exporter": "python",
   "pygments_lexer": "ipython3",
   "version": "3.9.7"
  }
 },
 "nbformat": 4,
 "nbformat_minor": 5
}
